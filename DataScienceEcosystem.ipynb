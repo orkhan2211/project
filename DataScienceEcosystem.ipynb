{
 "cells": [
  {
   "cell_type": "markdown",
   "id": "bb6956ff",
   "metadata": {},
   "source": [
    "# Data Science Tools and Ecosystem"
   ]
  },
  {
   "cell_type": "markdown",
   "id": "ce38402b",
   "metadata": {},
   "source": [
    "In this notebook, Data Science Tools and Ecosystem are summarized."
   ]
  },
  {
   "cell_type": "markdown",
   "id": "a767c072",
   "metadata": {},
   "source": [
    "# Some of the popular languages that Data Scientists use are:\n",
    "\n",
    "1. Python\n",
    "2. R\n",
    "3. Java\n",
    "4. C++\n",
    "5. Etc."
   ]
  },
  {
   "cell_type": "markdown",
   "id": "4ff8e5e3",
   "metadata": {},
   "source": [
    "# Some of the commonly used libraries used by Data Scientists include:\n",
    "\n",
    "* Pandas\n",
    "* Numpy\n",
    "* Matplotlib\n",
    "* TensorFlow\n",
    "* SciPy\n",
    "* PyTorch"
   ]
  },
  {
   "cell_type": "markdown",
   "id": "f3f30dcb",
   "metadata": {},
   "source": [
    "# Data Science Tools:\n",
    "\n",
    "1. Anaconda\n",
    "2. RStudio\n",
    "3. Apache Spark\n",
    "4. TensorFlow"
   ]
  },
  {
   "cell_type": "markdown",
   "id": "ba9c6048",
   "metadata": {},
   "source": [
    "# Below are a few examples of evaluating arithmetic expressions in Python:\n",
    "\n",
    "2 ** 3\n",
    "\n",
    "(4+3)*2\n",
    "\n",
    "14/2*2"
   ]
  },
  {
   "cell_type": "code",
   "execution_count": 1,
   "id": "99f18bab",
   "metadata": {},
   "outputs": [
    {
     "data": {
      "text/plain": [
       "17"
      ]
     },
     "execution_count": 1,
     "metadata": {},
     "output_type": "execute_result"
    }
   ],
   "source": [
    "# This a simple arithmetic expression to mutiply then add integers:\n",
    "\n",
    "(3*4)+5"
   ]
  },
  {
   "cell_type": "code",
   "execution_count": 6,
   "id": "1a8b7398",
   "metadata": {},
   "outputs": [
    {
     "data": {
      "text/plain": [
       "3.3333333333333335"
      ]
     },
     "execution_count": 6,
     "metadata": {},
     "output_type": "execute_result"
    }
   ],
   "source": [
    "#  This will convert 200 minutes to hours by diving by 60:\n",
    "\n",
    "minutes = 200\n",
    "\n",
    "200/60"
   ]
  },
  {
   "cell_type": "markdown",
   "id": "9000fd3b",
   "metadata": {},
   "source": [
    "### Objectives:\n",
    "\n",
    "* Tools for data science\n",
    "* Enviroments for data science\n",
    "* Languages for data science"
   ]
  },
  {
   "cell_type": "markdown",
   "id": "e96f5595",
   "metadata": {},
   "source": [
    "## Author:\n",
    "\n",
    "Orkhan Ayvazov"
   ]
  },
  {
   "cell_type": "code",
   "execution_count": null,
   "id": "8aad2eda",
   "metadata": {},
   "outputs": [],
   "source": []
  }
 ],
 "metadata": {
  "kernelspec": {
   "display_name": "Python 3 (ipykernel)",
   "language": "python",
   "name": "python3"
  },
  "language_info": {
   "codemirror_mode": {
    "name": "ipython",
    "version": 3
   },
   "file_extension": ".py",
   "mimetype": "text/x-python",
   "name": "python",
   "nbconvert_exporter": "python",
   "pygments_lexer": "ipython3",
   "version": "3.11.5"
  }
 },
 "nbformat": 4,
 "nbformat_minor": 5
}
